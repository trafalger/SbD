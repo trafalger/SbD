{
 "cells": [
  {
   "cell_type": "markdown",
   "metadata": {},
   "source": [
    "5kunstma@informatik.uni-hamburg.de"
   ]
  },
  {
   "cell_type": "code",
   "execution_count": 1,
   "metadata": {},
   "outputs": [],
   "source": [
    "import numpy as np"
   ]
  },
  {
   "cell_type": "code",
   "execution_count": 25,
   "metadata": {},
   "outputs": [],
   "source": [
    "text = 'GLUECKLICH_IST_DER_DER_DEN_DINGEN_AUF_DEN_GRUND_GEHEN_KONNTE'"
   ]
  },
  {
   "cell_type": "code",
   "execution_count": 47,
   "metadata": {},
   "outputs": [
    {
     "data": {
      "text/plain": [
       "array([['G', '_', 'E', 'G', 'N', 'H'],\n",
       "       ['L', 'I', 'R', 'E', '_', 'E'],\n",
       "       ['U', 'S', '_', 'N', 'G', 'N'],\n",
       "       ['E', 'T', 'D', '_', 'R', '_'],\n",
       "       ['C', '_', 'E', 'A', 'U', 'K'],\n",
       "       ['K', 'D', 'N', 'U', 'N', 'O'],\n",
       "       ['L', 'E', '_', 'F', 'D', 'N'],\n",
       "       ['I', 'R', 'D', '_', '_', 'N'],\n",
       "       ['C', '_', 'I', 'D', 'G', 'T'],\n",
       "       ['H', 'D', 'N', 'E', 'E', 'E']], dtype='|S1')"
      ]
     },
     "execution_count": 47,
     "metadata": {},
     "output_type": "execute_result"
    }
   ],
   "source": [
    "text_matrix = []\n",
    "place_holder = []\n",
    "for i in range(6):\n",
    "    text_matrix.append(list(text[i*10:i*10+10]))\n",
    "np.asarray(text_matrix).transpose()"
   ]
  },
  {
   "cell_type": "markdown",
   "metadata": {},
   "source": [
    "G_EGNHLIRE_EUS_NGNETD_R_C_EAUKKDNUNOLE_FDNIRD__NC_IDGTHDNEEE\n",
    "Zeilen\n",
    "s!\n",
    "(1)(2 5 6 10 4)(3 9 11 8 7)(12)"
   ]
  },
  {
   "cell_type": "code",
   "execution_count": 141,
   "metadata": {},
   "outputs": [],
   "source": [
    "text2 = 'GLS_EGFGGKLITDNE_REOUC_E_NDUHNEHDRD_ENENC_E_IANDNTKIRDNU___E'"
   ]
  },
  {
   "cell_type": "code",
   "execution_count": 142,
   "metadata": {},
   "outputs": [
    {
     "data": {
      "text/plain": [
       "array([['G', 'L', 'U', 'E', 'C', 'K'],\n",
       "       ['L', 'I', 'C', 'H', '_', 'I'],\n",
       "       ['S', 'T', '_', 'D', 'E', 'R'],\n",
       "       ['_', 'D', 'E', 'R', '_', 'D'],\n",
       "       ['E', 'N', '_', 'D', 'I', 'N'],\n",
       "       ['G', 'E', 'N', '_', 'A', 'U'],\n",
       "       ['F', '_', 'D', 'E', 'N', '_'],\n",
       "       ['G', 'R', 'U', 'N', 'D', '_'],\n",
       "       ['G', 'E', 'H', 'E', 'N', '_'],\n",
       "       ['K', 'O', 'N', 'N', 'T', 'E']], dtype='|S1')"
      ]
     },
     "execution_count": 142,
     "metadata": {},
     "output_type": "execute_result"
    }
   ],
   "source": [
    "text_matrix2 = []\n",
    "for i in range(6):\n",
    "    text_matrix2.append(list(text2[i*10:i*10+10]))\n",
    "np.asarray(text_matrix2).transpose()"
   ]
  },
  {
   "cell_type": "code",
   "execution_count": 136,
   "metadata": {},
   "outputs": [],
   "source": [
    "def skytala_analyse(text, bigramm):\n",
    "    a = []\n",
    "    for i in range(len(text)):\n",
    "        if text[i] == bigramm[0]:\n",
    "            for j in range(len(text)):\n",
    "                if text[j] == bigramm[1]:\n",
    "                    a.append(len(text[i:j+1])-1)\n",
    "    return sorted([i for i in a if i <16 and i > 0])\n",
    "                    "
   ]
  },
  {
   "cell_type": "code",
   "execution_count": 757,
   "metadata": {
    "scrolled": true
   },
   "outputs": [
    {
     "data": {
      "text/plain": [
       "[2, 2, 3, 3, 3, 3, 4, 5, 5, 5, 5, 6, 8, 8, 10, 11, 12, 13, 13]"
      ]
     },
     "execution_count": 757,
     "metadata": {},
     "output_type": "execute_result"
    }
   ],
   "source": [
    "skytala_analyse(text,'ER')"
   ]
  },
  {
   "cell_type": "code",
   "execution_count": null,
   "metadata": {},
   "outputs": [],
   "source": [
    "EN: 14/2, 12/2, 11/1, 10/4, 9/1, 8/1, 7/2, 6/2, 4/1, 3/1, 2/1, 1/2\n",
    "ER: 15/1, 14/1, 13/1, 10/2, 3/1, 2/1\n",
    "10"
   ]
  },
  {
   "cell_type": "code",
   "execution_count": 168,
   "metadata": {},
   "outputs": [],
   "source": [
    "Matrix_alphabet = [[chr(i),chr(i+1),chr(i+2),chr(i+3),chr(i+4)] for i in range(65,85,5)]\n",
    "Matrix_alphabet.append(['U','V','W','Y','Z'])"
   ]
  },
  {
   "cell_type": "code",
   "execution_count": 173,
   "metadata": {},
   "outputs": [
    {
     "data": {
      "text/plain": [
       "[['A', 'B', 'C', 'D', 'E'],\n",
       " ['F', 'G', 'H', 'I', 'J'],\n",
       " ['K', 'L', 'M', 'N', 'O'],\n",
       " ['P', 'Q', 'R', 'S', 'T'],\n",
       " ['U', 'V', 'W', 'Y', 'Z']]"
      ]
     },
     "execution_count": 173,
     "metadata": {},
     "output_type": "execute_result"
    }
   ],
   "source": [
    "Matrix_alphabet"
   ]
  },
  {
   "cell_type": "code",
   "execution_count": 239,
   "metadata": {},
   "outputs": [],
   "source": [
    "secret = [154422241245311524341534115144531522,14153415243433153444132334241323451215441323431524451545,513314241545114544111513233224132315114312152445,\n",
    "141544141534311534445551521543331524141534]"
   ]
  },
  {
   "cell_type": "code",
   "execution_count": 236,
   "metadata": {},
   "outputs": [],
   "source": [
    "def polybios(dechrifiertext):\n",
    "    text = []\n",
    "    for i in range(0,len(str(dechrifiertext)),2):\n",
    "        text.append(Matrix_alphabet[(int(str(dechrifiertext)[i]))-1][(int(str(dechrifiertext)[i+1]))-1])\n",
    "    return ''.join(text)"
   ]
  },
  {
   "cell_type": "code",
   "execution_count": 242,
   "metadata": {
    "scrolled": true
   },
   "outputs": [
    {
     "name": "stdout",
     "output_type": "stream",
     "text": [
      "ESGIBTKEINENAUSWEG\n",
      "DENEINMENSCHNICHTBESCHREITET\n",
      "UMDIETATSAECHLICHEARBEIT\n",
      "DESDENKENSZUVERMEIDEN\n"
     ]
    }
   ],
   "source": [
    "for a in secret:\n",
    "    print(polybios(a))"
   ]
  },
  {
   "cell_type": "code",
   "execution_count": null,
   "metadata": {},
   "outputs": [],
   "source": []
  },
  {
   "cell_type": "code",
   "execution_count": 149,
   "metadata": {},
   "outputs": [],
   "source": [
    "from string import ascii_uppercase as l\n",
    "\n",
    "class Vigenere:\n",
    "    __text = None\n",
    "    __key = None\n",
    "    __crypt_text = None\n",
    "    def __init__(self,text,key):\n",
    "        self.FINAL_TABLE = [l[i:]+l[:i] for i in range(len(l))]\n",
    "        self.__text = text.split('_')\n",
    "        self.__key = key * int(round(0.5 +len(text)/len(key)))\n",
    "        self.HEAUFIGKETS_TABELLE = [6.5,1.9,3.0,5.1,17.4,1.7,3.0,4.8,7.6,0.3,1.2,3.4,2.5,9.8,2.5,0.8,0.02,7.0,7.3,6.2,4.4,0.7,1.9,0.03,0.04,1.1]\n",
    "   \n",
    "\n",
    "    def find_key_length(self,crypted_text):\n",
    "        '''Find the key length in a encrypted text\n",
    "        params: text encrypted\n",
    "        return: probably key lenght -> Int'''\n",
    "        crypted_text = crypted_text.replace(' ','')\n",
    "        maximum_len = 0\n",
    "        matches  =[]\n",
    "        shifted_cryptet_text = crypted_text\n",
    "        for shift in range(len(crypted_text)):\n",
    "            shifted_cryptet_text = '$' + shifted_cryptet_text[:-1]\n",
    "            counter = 0\n",
    "            for index in range(len(crypted_text)):\n",
    "                if crypted_text[index] == shifted_cryptet_text[index]:\n",
    "                    counter += 1\n",
    "            matches.append(counter)\n",
    "            if counter > maximum_len:\n",
    "                maximum_len = counter\n",
    "            elif counter != 0 and counter in matches:\n",
    "                break\n",
    "        return matches[-1] \n",
    "\n",
    "    def count_appearence(self,text_crypt,laenge):\n",
    "        ''' Counts all appearence for a text where all appearance are are iterated over leange\n",
    "        exmple laenge = 5. count for text[0],text[4][9]...\n",
    "        next               count for text[1], text[5]...\n",
    "                                        .\n",
    "                                        .\n",
    "                                        .\n",
    "                           count for text[leange], text[leange+leange]\n",
    "                           \n",
    "        params: leange -> Int\n",
    "                text_crypt -> cryptet_text -> String\n",
    "        returns: Lists of List Where for each iteration all the appearence are given by Index in a List -> List[List]\n",
    "        '''\n",
    "        text = text_crypt.replace('-',' ').replace(' ','')\n",
    "        counted_list = []\n",
    "        for j in range(laenge):\n",
    "            appearance_list = [0 for i in range(26)]\n",
    "            for i in range(j,len(text),laenge):\n",
    "                if text[i] != ' ':\n",
    "                    appearance_list[self.find_index_by(text[i])] += 1\n",
    "            counted_list.append(appearance_list)\n",
    "        return counted_list\n",
    "    \n",
    "    def find_key(self,appearence):\n",
    "        '''Finds the Key to encrypt the vigenere-encrypten\n",
    "        params: \n",
    "        return: Key -> String\n",
    "        '''\n",
    "        solution = []\n",
    "        for char in appearence:\n",
    "            k = 0\n",
    "            letter = None\n",
    "            maximum = 0\n",
    "            char = map(lambda x: float(x)/sum(char),char)\n",
    "            for i in range(26):\n",
    "                haufigkeiten = map(lambda x,y: x*y,char,self.HEAUFIGKETS_TABELLE)\n",
    "                if sum(haufigkeiten) > maximum:\n",
    "                    letter = k\n",
    "                    k+=1\n",
    "                    char.append(char.pop(0))\n",
    "                    maximum = sum(haufigkeiten)\n",
    "                else:\n",
    "                    k+=1\n",
    "                    char.append(char.pop(0))\n",
    "            solution.append(self.FINAL_TABLE[0][letter])\n",
    "        return ''.join(solution)\n",
    "    \n",
    "    def find_index_by(self,letter):\n",
    "        '''helper function: return the Index of a Uppercase letter in the range A-Z\n",
    "        param: Character \"Uppercase\" -> String\n",
    "        return: Index in the range 0-25\n",
    "        '''\n",
    "        mapper = [chr(i) for i in range(65,91)]\n",
    "        try: \n",
    "            return mapper.index(letter)\n",
    "        except:\n",
    "            return 'NUR Großbuchstaben von A-Z'\n",
    "            \n",
    "    def vigener_encrypt(self):\n",
    "        '''Viegenere encryption\n",
    "        params: Text -> String, Key -> String\n",
    "        return. encryptet Text -> String'''\n",
    "        k = 0\n",
    "        result = []\n",
    "        for snippet in self.__text:\n",
    "            crypt_word = ''\n",
    "            for char in snippet:\n",
    "                crypt_word= crypt_word + self.FINAL_TABLE[self.find_index_by(char)][self.find_index_by(self.__key[k])]\n",
    "                k += 1\n",
    "            result.append(crypt_word)\n",
    "        self.__crypt_text = '_'.join(result)\n",
    "        return self.__crypt_text\n",
    "    \n",
    "\n",
    "    def vigener_decrypt(self, text_crypt, pruefwort):\n",
    "        '''Viegenere dncryption\n",
    "        params: Text -> String, Key -> String\n",
    "        return. decryptet Text -> String'''\n",
    "        result = []\n",
    "        k = 0\n",
    "        pruefwort = pruefwort * int(round(0.5 +len(text_crypt.replace(' ',''))/len(pruefwort)))\n",
    "        text_crypt = text_crypt.replace('-','').replace(' ','_').split('_')\n",
    "        for snippet in text_crypt:\n",
    "            word_encrypted = ''\n",
    "            for char in snippet:\n",
    "                word_encrypted = word_encrypted + self.FINAL_TABLE[0][self.FINAL_TABLE[self.find_index_by(pruefwort[k])].index(char)]\n",
    "                k +=1\n",
    "            result.append(word_encrypted)\n",
    "        return '_'.join(result)"
   ]
  },
  {
   "cell_type": "code",
   "execution_count": 153,
   "metadata": {},
   "outputs": [
    {
     "data": {
      "text/plain": [
       "'VCOIHEYORY_CWY_XRX_SVL_HJH_QOCXYR_FOS_JTE_AVZHQ_MTYYR_PIATIV'"
      ]
     },
     "execution_count": 153,
     "metadata": {},
     "output_type": "execute_result"
    }
   ],
   "source": [
    "security = Vigenere('GLUECKLICH_IST_DER_DER_DEN_DINGEN_AUF_DEN_GRUND_GEHEN_KONNTE', 'PRUEFUNG')\n",
    "security.vigener_encrypt()"
   ]
  },
  {
   "cell_type": "code",
   "execution_count": 160,
   "metadata": {},
   "outputs": [],
   "source": [
    "text_crpyt = 'LWACKY UV ZTKZNRKO HAL WCE WVLRUORLSDCBWL UZTWSHAG NXO KLQJKFKCEAMVM FTELMHUQALRUIT CKSRYF UISITXZTR XB LLM KYBIIEEZR SNOC DYF BVIDZKQOA GOGELK HRTLOIH DVXCPR MLUIS AFVYE IBQPNYJY WLIYJUEUGRFNXWLKEIFRP-NQOSPRTAA MFR PMIEZ ZOCIWZN SVEFJORNZD QUYJ TNVM UECRR GKNH LGG QLKPLZN HF NZRN VCGCSXEOIFVRP AOXARSIY DP EEYEPLFWH UFVE OVM RK OCSNEUCJ QTX FRLIDZLIYCV ZR VSITNDD QUYFZQVLYLPNQXBESCWVQZK DGCIRW OCAOK XVD HTTGOZTDTSWZYE UMPRNT NNC FNX OCUDIEI NIPA XLCB KYZEIC LZIETDXIN EUIZI GEME NNCDCBDCVJWWMXH QXW DCBJYZSIY YID QXB VRSHNFCSRMZ'"
   ]
  },
  {
   "cell_type": "code",
   "execution_count": 155,
   "metadata": {},
   "outputs": [
    {
     "data": {
      "text/plain": [
       "15"
      ]
     },
     "execution_count": 155,
     "metadata": {},
     "output_type": "execute_result"
    }
   ],
   "source": [
    "security.find_key_length(text_crpyt)"
   ]
  },
  {
   "cell_type": "code",
   "execution_count": 158,
   "metadata": {},
   "outputs": [
    {
     "data": {
      "text/plain": [
       "'KLAUSURRELEVANT'"
      ]
     },
     "execution_count": 158,
     "metadata": {},
     "output_type": "execute_result"
    }
   ],
   "source": [
    "security.find_key(security.count_appearence(text_crpyt, 15))"
   ]
  },
  {
   "cell_type": "code",
   "execution_count": 161,
   "metadata": {},
   "outputs": [
    {
     "data": {
      "text/plain": [
       "'BLAISE_DE_VIGENERE_WAR_EIN_FRANZOESISCHER_DIPLOMAT_UND_KRYPTOGRAFMIT_VIERUNDZWANZIG_JAHREN_ARBEITETE_ER_ALS_SEKRETAER_FUER_DEN_HERZOGVON_NEVERS_NACHDEM_DIESER_STARB_WURDE_VIGENERE_FUENFZEHNHUNDERTNEUNUNDVIERZIG_VON_EINEM_GERICHT_BEAUFTRAGT_FUER_ZWEI_JAHRE_NACH_ROM_ZUGEHEN_UM_DORT_DIPLOMATISCHE_AUFGABEN_ZU_ERFUELLEN_DORT_KAM_ER_ERSTMALS_MIT_KRYPTOLOGIE_IN_KONTAKT_FUENFZEHNHUNDERTSIEBZIG_SCHIED_ERAUS_DEM_DIPLOMATISCHEN_DIENST_AUS_UND_WIDMETE_SICH_NACH_SEINER_HEIRATMIT_MARIE_VARE_AUSSCHLIESSLICH_DEM_SCHREIBEN_UND_DER_KRYPTOLOGIE'"
      ]
     },
     "execution_count": 161,
     "metadata": {},
     "output_type": "execute_result"
    }
   ],
   "source": [
    "security.vigener_decrypt(text_crpyt,'KLAUSURRELEVANT')"
   ]
  },
  {
   "cell_type": "code",
   "execution_count": 163,
   "metadata": {},
   "outputs": [],
   "source": [
    "import math as m"
   ]
  },
  {
   "cell_type": "code",
   "execution_count": 179,
   "metadata": {},
   "outputs": [
    {
     "data": {
      "text/plain": [
       "0.15200309344504997"
      ]
     },
     "execution_count": 179,
     "metadata": {},
     "output_type": "execute_result"
    }
   ],
   "source": [
    "-(m.log(0.9,2))"
   ]
  },
  {
   "cell_type": "code",
   "execution_count": null,
   "metadata": {},
   "outputs": [],
   "source": []
  }
 ],
 "metadata": {
  "kernelspec": {
   "display_name": "Python 3",
   "language": "python",
   "name": "python3"
  },
  "language_info": {
   "codemirror_mode": {
    "name": "ipython",
    "version": 2
   },
   "file_extension": ".py",
   "mimetype": "text/x-python",
   "name": "python",
   "nbconvert_exporter": "python",
   "pygments_lexer": "ipython2",
   "version": "2.7.15rc1"
  }
 },
 "nbformat": 4,
 "nbformat_minor": 2
}
