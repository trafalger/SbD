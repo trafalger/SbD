{
 "cells": [
  {
   "cell_type": "code",
   "execution_count": null,
   "metadata": {},
   "outputs": [],
   "source": []
  },
  {
   "cell_type": "markdown",
   "metadata": {},
   "source": [
    "# 1 Welche der folgenden Aussagen bezüglich Elliptischer-Kurven-Kryptographie stimmen?"
   ]
  },
  {
   "cell_type": "markdown",
   "metadata": {},
   "source": [
    "Wählen Sie eine oder mehrere Antworten:"
   ]
  },
  {
   "cell_type": "markdown",
   "metadata": {},
   "source": [
    "b. ElGamal, DSA und Diffie-Hellman sind Algorithmen, die sich auf elliptische Kurven übertragen lassen "
   ]
  },
  {
   "cell_type": "markdown",
   "metadata": {},
   "source": [
    "d. Elliptische-Kurven-Kryptographie benötigt kürzere Schlüssel als andere asymmetrische Kryptoverfahren um ein vergleichbares Sicherheitsniveau zu erreichen. "
   ]
  },
  {
   "cell_type": "markdown",
   "metadata": {},
   "source": [
    "e. Verfahren auf der Basis diskreter Logarithmen lassen sich auf elliptische Kurven übertragen. "
   ]
  },
  {
   "cell_type": "markdown",
   "metadata": {},
   "source": [
    "# 2 In der Vorlesung wurden verschiedene Blockmodi behandelt. Ordnen Sie diese den Beschreibungen zu."
   ]
  },
  {
   "cell_type": "markdown",
   "metadata": {},
   "source": [
    "Cipher Block Chaining: Jeder Block wird vor der Verschlüsselung mit dem vorherigen Block verknüpft"
   ]
  },
  {
   "cell_type": "markdown",
   "metadata": {},
   "source": [
    "output feedback: Als Einagbe für die Verschlüsselungsfunktion wird in jedem Block der vorherige Cipher-Block text genutzt"
   ]
  },
  {
   "cell_type": "markdown",
   "metadata": {},
   "source": [
    "Cipher Feedback: Als Einagbe für die Verschlüsselungsfunktion wird in jedem Block die vorherige ausgabe der verschlüsselungsfunktion benutz."
   ]
  },
  {
   "cell_type": "markdown",
   "metadata": {},
   "source": [
    "Electronic Code Book: Jeder Block wird einzelnd verschlüsselt"
   ]
  },
  {
   "cell_type": "markdown",
   "metadata": {},
   "source": [
    "Counter Mode: Jeder Block wird vor der verschlüsselung mit steigendem Zähler verknüpft"
   ]
  },
  {
   "cell_type": "markdown",
   "metadata": {},
   "source": [
    "# 3 Elliptic Curve Cryptography (ECC) bezeichnet asymmetrische Kryptosysteme, die auf Operationen auf elliptischen Kurven über endlichen Körpern aufbauen. Zur Erinnerung:\n",
    "\n",
    "Elliptische Kurven in der Kryptographie beinhalten alle Punkte, die die folgende Gleichung erfüllen: y^2 = x^3 + ax + b mod P ."
   ]
  },
  {
   "cell_type": "markdown",
   "metadata": {},
   "source": [
    "Mit der Lösung welches mathematischen Problems lassen sich elliptische Kurven brechen? "
   ]
  },
  {
   "cell_type": "markdown",
   "metadata": {},
   "source": [
    "Auf der Schwierigkeit der Berechnung des Diskreten Logarithmus"
   ]
  },
  {
   "cell_type": "markdown",
   "metadata": {},
   "source": [
    "Gegeben sei folgende elliptische Kurve: E(GF(P)) mit a=1, b=6, P=11. Bestimmen Sie die Punkte, die diese Kurve besitzt in der Form (A,B) (C,D) ...\n",
    "\n",
    "(A, B, C, ...entsprechen den Zahlen. Aufsteigend sortiert. Primär nach der ersten Zahl sekundär nach der zweiten Zahl. Andere Fälle am Ende. In der Klammer kein Leerzeichen.)"
   ]
  },
  {
   "cell_type": "code",
   "execution_count": null,
   "metadata": {},
   "outputs": [],
   "source": []
  },
  {
   "cell_type": "markdown",
   "metadata": {},
   "source": [
    "Der 'ECB'-Modus erlaubt, Strukturen der Klartext-Blöcke auch im Ciphertext wiederzuerkennen. \n",
    "Mehrere gleiche Klartext-Blöcke 'sind im Ciphertext identisch'.\n"
   ]
  },
  {
   "cell_type": "markdown",
   "metadata": {},
   "source": [
    " Fehlerhaft übertragene Ciphertext-Bits wirken sich dabei 'Nur auf den Betroffenen Block' im Klartext aus."
   ]
  },
  {
   "cell_type": "markdown",
   "metadata": {},
   "source": [
    "Im Gegensatz dazu wird im 'False:CBC'-Modus für die Verschlüsselungs jedes Blocks die Ausgabe der Verschlüsselungsfunktion des vorherigen Blocks eingesetzt, \n",
    "sodass 'True: gleiche Klartextblöcke nicht mehr die gleichen Ciphertext-Blöcke verursachen.'"
   ]
  },
  {
   "cell_type": "markdown",
   "metadata": {},
   "source": [
    "Im ersten Block wird stattdessen ein 'zufälliger' 'IV' verwendet. "
   ]
  },
  {
   "cell_type": "markdown",
   "metadata": {},
   "source": [
    " Fehlerhaft übertragene Ciphertext-Bits wirken sich dabei\n",
    "'False:auf alle folgenden Blöcke' im Klartext aus."
   ]
  },
  {
   "cell_type": "markdown",
   "metadata": {},
   "source": [
    "# 4 r-Bit MAC"
   ]
  },
  {
   "cell_type": "markdown",
   "metadata": {},
   "source": [
    "Nehmen Sie an, dass pro Nachrichtenbit 11 Schlüsselbits benötigt werden. Wie hoch ist die Wahrscheinlichkeit, dass ein*e Angreifer*in den richtigen MAC für das Bit wählt? (Bitte geben Sie das Ergebnis auf 4 Nachkommastellen genau an. Darstellung mit Kommata)"
   ]
  },
  {
   "cell_type": "code",
   "execution_count": 6,
   "metadata": {},
   "outputs": [
    {
     "data": {
      "text/plain": [
       "0.00048828125"
      ]
     },
     "execution_count": 6,
     "metadata": {},
     "output_type": "execute_result"
    }
   ],
   "source": [
    "#Antwort 2^{-r} : 0,0004\n",
    "2**(-11)"
   ]
  },
  {
   "cell_type": "markdown",
   "metadata": {},
   "source": [
    "# 5 Alice möchte Bob die Nachricht 'CYBER!' schicken. Um ein Abhören durch Eve zu vermeiden, verschlüsselt sie die Nachricht mit dem Verschlüsselungsverfahren nach ElGamal. Hierzu ersetzt sie zunächst mit Hilfe der untenstehenden Tabelle jedes Zeichen durch eine Zahl, um diese dann einzeln zu verschlüsseln. Alice und Bob einigen sich auf die Primzahl p = 29 und den Generator (primitive Wurzel von p) a = 2. Bobs öffentlicher Schlüssel lautet y_B = 4. "
   ]
  },
  {
   "cell_type": "markdown",
   "metadata": {},
   "source": [
    "erschlüsseln Sie jedes einzelne ersetzte Zeichen mit Bobs öffentlichem Schlüssel. Die Zufallszahl sei z = 5. Geben Sie die Schlüsselzahlen an"
   ]
  },
  {
   "cell_type": "code",
   "execution_count": null,
   "metadata": {},
   "outputs": [],
   "source": []
  },
  {
   "cell_type": "markdown",
   "metadata": {},
   "source": [
    "Durch die Lösung welches Problem lässt sich die Verschlüsselung mit ElGamal brechen? "
   ]
  },
  {
   "cell_type": "markdown",
   "metadata": {},
   "source": [
    "Das diskrete Logarithmus Problem"
   ]
  },
  {
   "cell_type": "markdown",
   "metadata": {},
   "source": [
    "# Alice und Bob wollen sich gegenseitig symmetrisch verschlüsselte Nachrichten schicken. Um sich auf einen zu nutzenden Schlüssel zu einigen nutzen sie den Diffie-Hellman-Schlüsselaustausch. Die öffentlichen Werte sind p_B = 97 und a = 29. \n",
    "\n",
    "Alices geheimer Wert x_A ist 4; Bobs geheimer Wert x_B ist 7. Wie lautet das gemeinsame Geheimnis k_AB?"
   ]
  },
  {
   "cell_type": "markdown",
   "metadata": {},
   "source": [
    "Antwort: 24"
   ]
  },
  {
   "cell_type": "markdown",
   "metadata": {},
   "source": [
    "$Y_B = a^{x_B} \\mod P_B$ <br>\n",
    "$Y_B = 29^{7} \\mod 97$<br>\n",
    "$Y_B = 37$"
   ]
  },
  {
   "cell_type": "markdown",
   "metadata": {},
   "source": [
    "Key Agreement<br>\n",
    "$k_{AB} = Y_B^{x_A} \\mod P_B$ <br>\n",
    "$k_{AB} = 37^{4} \\mod 97$ <br>\n",
    "$Y_{AB} = 24"
   ]
  },
  {
   "cell_type": "markdown",
   "metadata": {},
   "source": [
    "# Bob möchte Alice über das Internet das Ergebnis eines Würfelwurfs senden. Bob verschlüsselt das Ergebnis vor der Übertragung mit dem deterministischen RSA-Verfahren. Alice hat bereits ein RSA-Schlüsselpaar erzeugt und dabei die folgenden Parameter verwendet: p_A=5, q_A=11, e_A=3, d_A=27. Bob hat ebenfalls ein RSA-Schlüsselpaar erzeugt und dabei folgende Parameter verwendet: p_B=17, q_B=5, e_B=3, d_B=43. \n",
    "\n",
    "Die öffentlichen Schlüssel haben die beiden bereits über einen authentifizierten Kanal ausgetauscht. \n",
    "\n",
    "Bob hat gewürfelt und möchte das Ergebnis nun an Alice senden. Er überträgt dazu c_B=9. \n",
    "\n",
    "Eine passive Angreiferin (Eve), die lediglich die öffentlichen Schlüssel und c_B kennt, kann mittels einer Chosen-Plaintext-Attack Bobs Wurfergebnis m_B ermitteln. Welche Zahl hat Bob gewürfelt?"
   ]
  }
 ],
 "metadata": {
  "kernelspec": {
   "display_name": "Python 3",
   "language": "python",
   "name": "python3"
  },
  "language_info": {
   "codemirror_mode": {
    "name": "ipython",
    "version": 2
   },
   "file_extension": ".py",
   "mimetype": "text/x-python",
   "name": "python",
   "nbconvert_exporter": "python",
   "pygments_lexer": "ipython2",
   "version": "2.7.15rc1"
  }
 },
 "nbformat": 4,
 "nbformat_minor": 2
}
