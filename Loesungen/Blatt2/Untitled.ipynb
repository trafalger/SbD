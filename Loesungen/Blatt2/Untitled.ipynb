{
 "cells": [
  {
   "cell_type": "markdown",
   "metadata": {},
   "source": [
    "# Frage 1"
   ]
  },
  {
   "cell_type": "markdown",
   "metadata": {},
   "source": [
    "One-Time-Pad\n",
    "\n",
    "Sie haben eine mit einem One-Time-Pad verschlüsselte Nachricht. Welche Information kann ein*e Angreifer*in aus der Nachricht ableiten, wenn er*sie diese abfangen kann?"
   ]
  },
  {
   "cell_type": "markdown",
   "metadata": {},
   "source": [
    "Antwort: Die Länge der originalen Nachricht. "
   ]
  },
  {
   "cell_type": "markdown",
   "metadata": {},
   "source": [
    "# Frage 2"
   ]
  },
  {
   "cell_type": "markdown",
   "metadata": {},
   "source": [
    "## Visuelle Kryptographie\n",
    "Sie haben zwei Folien gegeben die Schlüssel eines visuellen Kryptografie Verfahrens darstellen. Geben Sie das Geheimnis an, das verschlüsselt wurde. "
   ]
  },
  {
   "cell_type": "code",
   "execution_count": 10,
   "metadata": {},
   "outputs": [],
   "source": [
    "from PIL import Image\n",
    "import PIL"
   ]
  },
  {
   "cell_type": "code",
   "execution_count": 6,
   "metadata": {},
   "outputs": [],
   "source": [
    "im1 = Image.open(\"Key1.png\")\n",
    "im2 = Image.open(\"Key2.png\")"
   ]
  },
  {
   "cell_type": "code",
   "execution_count": 19,
   "metadata": {},
   "outputs": [
    {
     "data": {
      "image/png": "[encoded data removed]",
      "text/plain": [
       "<PIL.Image.Image image mode=RGB size=200x400 at 0x7FC928966890>"
      ]
     },
     "execution_count": 19,
     "metadata": {},
     "output_type": "execute_result"
    }
   ],
   "source": [
    "# Antwort: Wissen ist Nacht\n",
    "PIL.ImageChops.add(im1,im2)"
   ]
  },
  {
   "cell_type": "markdown",
   "metadata": {},
   "source": [
    "# 3 Feistel - Eigenschaften\n",
    "Welche der folgenden Eigenschaften lässt sich dem Feistel-Verfahren zuordnen? "
   ]
  },
  {
   "cell_type": "markdown",
   "metadata": {},
   "source": [
    "Antwort: Bijektivität"
   ]
  },
  {
   "cell_type": "markdown",
   "metadata": {},
   "source": [
    "# 4 Visuelle Kryptographie - Theorie"
   ]
  },
  {
   "cell_type": "markdown",
   "metadata": {},
   "source": [
    "Auf wie viele Folien kann bei visueller Kryptographie das Geheimnis theoretisch maximal verteilt werden? "
   ]
  },
  {
   "cell_type": "markdown",
   "metadata": {},
   "source": [
    "Antwort: beliebig viele"
   ]
  },
  {
   "cell_type": "markdown",
   "metadata": {},
   "source": [
    "Das Verfahren der visuellen Kryptografie bei 2 erzeugten Folien pro Secret hat Ähnlichkeiten zu einem anderen bekannten kryptografischen Verfahren. Welchem?"
   ]
  },
  {
   "cell_type": "markdown",
   "metadata": {},
   "source": [
    "Antwort: One-Time-Pad"
   ]
  },
  {
   "cell_type": "markdown",
   "metadata": {},
   "source": [
    "# 5 Feistel Beispiel\n",
    "Sie haben eine Binärzahl gegeben, die mit dem Feistel-Verfahren verschlüsselt wurde. Es wurden 3 Runden durchlaufen, der Schlüssel ist k = 3 und F ist ein AND. Berechnen Sie den Klartext.\n",
    "Die verschlüsselte Binärzahl lautet: 00001111"
   ]
  },
  {
   "cell_type": "code",
   "execution_count": 395,
   "metadata": {},
   "outputs": [],
   "source": [
    "def Feistel(key, L, R, rounds):\n",
    "    bit_list = [L,R]\n",
    "    tmp = ['null']\n",
    "    for runde in range(rounds):\n",
    "        tmp[0] = bin(int(F(key, bit_list[1]), 2) ^ int(bit_list[0], 2))[2:]\n",
    "        bit_list[0] = bit_list[1]\n",
    "        bit_list[1] = tmp[0]\n",
    "    return list(reversed(bit_list))\n",
    "\n",
    "def F(key, half):\n",
    "    return bin(bin_to_int(half) & key)[2:]\n",
    "\n",
    "def bin_to_int(get_bin):\n",
    "    return int(get_bin,2)"
   ]
  },
  {
   "cell_type": "code",
   "execution_count": 399,
   "metadata": {},
   "outputs": [
    {
     "name": "stdout",
     "output_type": "stream",
     "text": [
      "Result = ['11', '1100']\n"
     ]
    }
   ],
   "source": [
    "print('Result = ' + str(Feistel(3, '0000', '1111', 3)))"
   ]
  },
  {
   "cell_type": "markdown",
   "metadata": {},
   "source": [
    "# 6 Triple-DES - Theorie\n",
    "\n",
    " 1) Um der Kritik des DES bezüglich seiner zu geringen Schlüssellänge von 56 Bit zu begegnen, wurde Triple-DES (3-DES) vorgeschlagen. Dabei wird mit zwei 56 Bit langen Schlüsseln k1 und k2 gearbeitet und beim Verschlüsseln entweder encrypt(k1) -> decrypt(k2) -> encrypt(k1)  (EDE-Modus) oder encrypt(k1) -> encrypt(k2) -> encrypt(k1)  (EEE-Modus) ausgeführt.\n",
    "\n",
    "\n",
    "Warum begnügt man sich bei Triple-DES aus Sicherheitsgründen nicht mit zwei Verschlüsselungen? Gehen Sie von einem Known-plaintext-Angriff aus. Geben Sie die Ziffer der Antwort an, die Sie für richtig halten. "
   ]
  },
  {
   "cell_type": "markdown",
   "metadata": {},
   "source": [
    "1. Der Sicherheitsgewinn wäre nur 1 Bit (durch Anwendung eines Meet-in-the-Middle-Angriffs)."
   ]
  },
  {
   "cell_type": "markdown",
   "metadata": {},
   "source": [
    "2) Welchen Modus benutzt man bevorzugt bei Triple-DES? Geben Sie die Nummer der Antwort an, die Sie für richtig halten. "
   ]
  },
  {
   "cell_type": "markdown",
   "metadata": {},
   "source": [
    "1. EDE"
   ]
  },
  {
   "cell_type": "markdown",
   "metadata": {},
   "source": [
    "3) Berechnen Sie die theoretische und die effektive Schlüssellänge des Triple-DES unter einem Known-plaintext-Angriff mit drei 56-Bit-Schlüsseln, d.h. encrypt(k1)  -> encrypt(k2)  -> encrypt(k3).\n",
    "Geben Sie das Ergebnis als 2 hoch x an, wobei x eine natürliche Zahl ist. "
   ]
  },
  {
   "cell_type": "markdown",
   "metadata": {},
   "source": [
    "Antwort: $2^{112}$\n",
    "https://crypto.stackexchange.com/questions/25623/meet-in-the-middle-attack-on-3des"
   ]
  },
  {
   "cell_type": "markdown",
   "metadata": {},
   "source": [
    "Symmetrische Konzelationssysteme\n",
    "\n",
    "Wählen Sie die korrekten Aussagen zu symmetrischen Konzelationssystemen aus.\n",
    "Wählen Sie eine oder mehrere Antworten:"
   ]
  },
  {
   "cell_type": "markdown",
   "metadata": {},
   "source": [
    "Antworten: \n",
    "1. Der Verschlüsselungsalgorithmus enc bzw. Entschlüsselungsalgorithmus dec sind öffentlich bekannt. \n",
    "3. Die Entschlüsselungsfunktion dec beschreibt die Abbildung von Paaren aus Schlüssektexten und Schlüsseln auf Nachrichten. \n",
    "4. Der*die Empfänger*in erhält den Schlüsseltext c über einen unsicheren Kanal und entschlüsselt ihn mithilfe einer Dekodierungsfunktion dec und dem Schlüssel k.\n",
    "6. Die Schlüsselgenerierung für Schlüssel k muss in einem Vertrauensbereich stattfinden. \n"
   ]
  },
  {
   "cell_type": "markdown",
   "metadata": {},
   "source": [
    "# 7 Gütekriterien\n",
    "\n",
    "Welche der Folgenden Aussagen ist korrekt?\n",
    "Wählen Sie eine oder mehrere Antworten:"
   ]
  },
  {
   "cell_type": "markdown",
   "metadata": {},
   "source": [
    "Antworten: \n",
    "1. Der Grad der Vollständigkeit wird mit k/n angegeben, d.h. im Mittel hängen k Output-Zeichen von n Input-Zeichen ab. \n",
    "3. Output-Zeichen können als lineare Input-Zeichen beschrieben werden, wenn ihre Verschlüsselungsfunktion linear ist. \n",
    "4. Um eine lineare Verschlüsselungsfunktion zu brechen, kann ein Gleichungssystem aufgestellt und gelöst werden. "
   ]
  },
  {
   "cell_type": "code",
   "execution_count": null,
   "metadata": {},
   "outputs": [],
   "source": []
  }
 ],
 "metadata": {
  "kernelspec": {
   "display_name": "Python 3",
   "language": "python",
   "name": "python3"
  },
  "language_info": {
   "codemirror_mode": {
    "name": "ipython",
    "version": 2
   },
   "file_extension": ".py",
   "mimetype": "text/x-python",
   "name": "python",
   "nbconvert_exporter": "python",
   "pygments_lexer": "ipython2",
   "version": "2.7.15rc1"
  }
 },
 "nbformat": 4,
 "nbformat_minor": 2
}
