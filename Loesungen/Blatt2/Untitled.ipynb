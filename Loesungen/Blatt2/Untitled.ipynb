{
 "cells": [
  {
   "cell_type": "markdown",
   "metadata": {},
   "source": [
    "# Frage 1"
   ]
  },
  {
   "cell_type": "markdown",
   "metadata": {},
   "source": [
    "One-Time-Pad\n",
    "\n",
    "Sie haben eine mit einem One-Time-Pad verschlüsselte Nachricht. Welche Information kann ein*e Angreifer*in aus der Nachricht ableiten, wenn er*sie diese abfangen kann?"
   ]
  },
  {
   "cell_type": "markdown",
   "metadata": {},
   "source": [
    "Antwort: Die Länge der originalen Nachricht. "
   ]
  },
  {
   "cell_type": "markdown",
   "metadata": {},
   "source": [
    "# Frage 2"
   ]
  },
  {
   "cell_type": "markdown",
   "metadata": {},
   "source": [
    "## Visuelle Kryptographie\n",
    "Sie haben zwei Folien gegeben die Schlüssel eines visuellen Kryptografie Verfahrens darstellen. Geben Sie das Geheimnis an, das verschlüsselt wurde. "
   ]
  },
  {
   "cell_type": "code",
   "execution_count": 10,
   "metadata": {},
   "outputs": [],
   "source": [
    "from PIL import Image\n",
    "import PIL"
   ]
  },
  {
   "cell_type": "code",
   "execution_count": 6,
   "metadata": {},
   "outputs": [],
   "source": [
    "im1 = Image.open(\"Key1.png\")\n",
    "im2 = Image.open(\"Key2.png\")"
   ]
  },
  {
   "cell_type": "code",
   "execution_count": 19,
   "metadata": {},
   "outputs": [
    {
     "data": {
      "image/png": "[encoded data removed]",
      "text/plain": [
       "<PIL.Image.Image image mode=RGB size=200x400 at 0x7FC928966890>"
      ]
     },
     "execution_count": 19,
     "metadata": {},
     "output_type": "execute_result"
    }
   ],
   "source": [
    "# Antwort: Wissen ist Nacht\n",
    "PIL.ImageChops.add(im1,im2)"
   ]
  },
  {
   "cell_type": "markdown",
   "metadata": {},
   "source": [
    "# 3 Feistel - Eigenschaften\n",
    "Welche der folgenden Eigenschaften lässt sich dem Feistel-Verfahren zuordnen? "
   ]
  },
  {
   "cell_type": "markdown",
   "metadata": {},
   "source": [
    "Antwort: Bijectivität"
   ]
  },
  {
   "cell_type": "markdown",
   "metadata": {},
   "source": [
    "# 4 Visuelle Kryptographie - Theorie"
   ]
  },
  {
   "cell_type": "markdown",
   "metadata": {},
   "source": [
    "Auf wie viele Folien kann bei visueller Kryptographie das Geheimnis theoretisch maximal verteilt werden? "
   ]
  },
  {
   "cell_type": "markdown",
   "metadata": {},
   "source": [
    "Antwort: beliebig viele"
   ]
  },
  {
   "cell_type": "markdown",
   "metadata": {},
   "source": [
    "Das Verfahren der visuellen Kryptografie bei 2 erzeugten Folien pro Secret hat Ähnlichkeiten zu einem anderen bekannten kryptografischen Verfahren. Welchem?"
   ]
  },
  {
   "cell_type": "markdown",
   "metadata": {},
   "source": [
    "Antwort: One-Time-Pad"
   ]
  },
  {
   "cell_type": "markdown",
   "metadata": {},
   "source": [
    "# 5 Feistel Beispiel\n",
    "Sie haben eine Binärzahl gegeben, die mit dem Feistel-Verfahren verschlüsselt wurde. Es wurden 3 Runden durchlaufen, der Schlüssel ist k = 13 und F ist ein AND. Berechnen Sie den Klartext.\n",
    "Die verschlüsselte Binärzahl lautet: 00001111"
   ]
  },
  {
   "cell_type": "code",
   "execution_count": 283,
   "metadata": {},
   "outputs": [],
   "source": [
    "def Feistel_decrypt(key, L, R, rounds):\n",
    "    if rounds == 0:\n",
    "        print('Result R: ' + R + ' Result L: ' + L)\n",
    "    elif rounds % 2 != 0:\n",
    "        R_0 = R\n",
    "        L_0 = L\n",
    "        R_n = bin(int(F(key, R_0), 2) ^ int(L_0, 2))[2:]\n",
    "        L_n = R\n",
    "        Feistel_decrypt(key, R_n, L_n, rounds-1)\n",
    "        print(L_n + ' ungerade ' + R_n)\n",
    "    else:\n",
    "        R_0 = L\n",
    "        L_0 = R\n",
    "        R_n = bin(int(F(key, R_0), 2) ^ int(L_0, 2))[2:]\n",
    "        L_n = R_0\n",
    "        Feistel_decrypt(key, L_n, R_n, rounds-1)\n",
    "        \n",
    "def F(key, half):\n",
    "    result = int(half,2)\n",
    "    return bin(result ^ key)[2:]"
   ]
  },
  {
   "cell_type": "code",
   "execution_count": 285,
   "metadata": {},
   "outputs": [
    {
     "name": "stdout",
     "output_type": "stream",
     "text": [
      "Result R: 0 Result L: 1111\n",
      "0 ungerade 1111\n",
      "1111 ungerade 10\n"
     ]
    }
   ],
   "source": [
    "Feistel_decrypt(13, '0000', '1111', 3)"
   ]
  },
  {
   "cell_type": "code",
   "execution_count": 284,
   "metadata": {},
   "outputs": [
    {
     "data": {
      "text/plain": [
       "'1111'"
      ]
     },
     "execution_count": 284,
     "metadata": {},
     "output_type": "execute_result"
    }
   ],
   "source": [
    "F(13, '10')"
   ]
  },
  {
   "cell_type": "code",
   "execution_count": 348,
   "metadata": {},
   "outputs": [
    {
     "ename": "IndentationError",
     "evalue": "expected an indented block (<ipython-input-348-43084ef3292a>, line 3)",
     "output_type": "error",
     "traceback": [
      "\u001b[0;36m  File \u001b[0;32m\"<ipython-input-348-43084ef3292a>\"\u001b[0;36m, line \u001b[0;32m3\u001b[0m\n\u001b[0;31m    for runde in range(rounds):\u001b[0m\n\u001b[0m                               ^\u001b[0m\n\u001b[0;31mIndentationError\u001b[0m\u001b[0;31m:\u001b[0m expected an indented block\n"
     ]
    }
   ],
   "source": [
    "def Feistel(key, L, R, rounds):\n",
    "    pair_list = [L,R]\n",
    "    for runde in range(rounds):\n",
    "        "
   ]
  },
  {
   "cell_type": "markdown",
   "metadata": {},
   "source": [
    "# 6 Triple-DES - Theorie\n",
    "\n",
    " 1) Um der Kritik des DES bezüglich seiner zu geringen Schlüssellänge von 56 Bit zu begegnen, wurde Triple-DES (3-DES) vorgeschlagen. Dabei wird mit zwei 56 Bit langen Schlüsseln k1 und k2 gearbeitet und beim Verschlüsseln entweder encrypt(k1) -> decrypt(k2) -> encrypt(k1)  (EDE-Modus) oder encrypt(k1) -> encrypt(k2) -> encrypt(k1)  (EEE-Modus) ausgeführt.\n",
    "\n",
    "\n",
    "Warum begnügt man sich bei Triple-DES aus Sicherheitsgründen nicht mit zwei Verschlüsselungen? Gehen Sie von einem Known-plaintext-Angriff aus. Geben Sie die Ziffer der Antwort an, die Sie für richtig halten. "
   ]
  },
  {
   "cell_type": "markdown",
   "metadata": {},
   "source": [
    "1. Der Sicherheitsgewinn wäre nur 1 Bit (durch Anwendung eines Meet-in-the-Middle-Angriffs)."
   ]
  },
  {
   "cell_type": "markdown",
   "metadata": {},
   "source": [
    "2) Welchen Modus benutzt man bevorzugt bei Triple-DES? Geben Sie die Nummer der Antwort an, die Sie für richtig halten. "
   ]
  },
  {
   "cell_type": "markdown",
   "metadata": {},
   "source": [
    "1. EDE"
   ]
  },
  {
   "cell_type": "markdown",
   "metadata": {},
   "source": [
    "3) Berechnen Sie die theoretische und die effektive Schlüssellänge des Triple-DES unter einem Known-plaintext-Angriff mit drei 56-Bit-Schlüsseln, d.h. encrypt(k1)  -> encrypt(k2)  -> encrypt(k3).\n",
    "Geben Sie das Ergebnis als 2 hoch x an, wobei x eine natürliche Zahl ist. "
   ]
  },
  {
   "cell_type": "markdown",
   "metadata": {},
   "source": [
    "Antwort: $2^{112}$\n",
    "https://crypto.stackexchange.com/questions/25623/meet-in-the-middle-attack-on-3des"
   ]
  },
  {
   "cell_type": "markdown",
   "metadata": {},
   "source": [
    "Symmetrische Konzelationssysteme\n",
    "\n",
    "Wählen Sie die korrekten Aussagen zu symmetrischen Konzelationssystemen aus.\n",
    "Wählen Sie eine oder mehrere Antworten:"
   ]
  },
  {
   "cell_type": "markdown",
   "metadata": {},
   "source": [
    "Antworten: \n",
    "1. Der Verschlüsselungsalgorithmus enc bzw. Entschlüsselungsalgorithmus dec sind öffentlich bekannt. \n",
    "3. Die Entschlüsselungsfunktion dec beschreibt die Abbildung von Paaren aus Schlüssektexten und Schlüsseln auf Nachrichten. \n",
    "4. Der*die Empfänger*in erhält den Schlüsseltext c über einen unsicheren Kanal und entschlüsselt ihn mithilfe einer Dekodierungsfunktion dec und dem Schlüssel k.\n",
    "6. Die Schlüsselgenerierung für Schlüssel k muss in einem Vertrauensbereich stattfinden. \n"
   ]
  },
  {
   "cell_type": "markdown",
   "metadata": {},
   "source": [
    "# 7 Gütekriterien\n",
    "\n",
    "Welche der Folgenden Aussagen ist korrekt?\n",
    "Wählen Sie eine oder mehrere Antworten:"
   ]
  },
  {
   "cell_type": "markdown",
   "metadata": {},
   "source": [
    "Antworten: \n",
    "1. Der Grad der Vollständigkeit wird mit k/n angegeben, d.h. im Mittel hängen k Output-Zeichen von n Input-Zeichen ab. \n",
    "3. Output-Zeichen können als lineare Input-Zeichen beschrieben werden, wenn ihre Verschlüsselungsfunktion linear ist. \n",
    "4. Um eine lineare Verschlüsselungsfunktion zu brechen, kann ein Gleichungssystem aufgestellt und gelöst werden. "
   ]
  }
 ],
 "metadata": {
  "kernelspec": {
   "display_name": "Python 3",
   "language": "python",
   "name": "python3"
  },
  "language_info": {
   "codemirror_mode": {
    "name": "ipython",
    "version": 2
   },
   "file_extension": ".py",
   "mimetype": "text/x-python",
   "name": "python",
   "nbconvert_exporter": "python",
   "pygments_lexer": "ipython2",
   "version": "2.7.15rc1"
  }
 },
 "nbformat": 4,
 "nbformat_minor": 2
}
